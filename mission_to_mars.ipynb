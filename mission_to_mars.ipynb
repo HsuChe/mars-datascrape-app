{
 "cells": [
  {
   "cell_type": "code",
   "execution_count": 193,
   "source": [
    "from splinter import Browser\r\n",
    "from bs4 import BeautifulSoup\r\n",
    "import pandas as pd\r\n",
    "import pymongo\r\n",
    "from flask import Flask, render_template, redirect\r\n",
    "from flask_pymongo import PyMongo\r\n",
    "from webdriver_manager.chrome import ChromeDriverManager"
   ],
   "outputs": [],
   "metadata": {}
  },
  {
   "cell_type": "code",
   "execution_count": 194,
   "source": [
    "# create the paths for chrome drivers\r\n",
    "executable_path = {'executable_path': ChromeDriverManager().install()}\r\n",
    "# load settings for the Browser\r\n",
    "browser = Browser('chrome', **executable_path, headless = False)"
   ],
   "outputs": [
    {
     "output_type": "stream",
     "name": "stderr",
     "text": [
      "\n",
      "\n",
      "====== WebDriver manager ======\n",
      "Current google-chrome version is 93.0.4577\n",
      "Get LATEST driver version for 93.0.4577\n",
      "Driver [C:\\Users\\hsueh\\.wdm\\drivers\\chromedriver\\win32\\93.0.4577.63\\chromedriver.exe] found in cache\n"
     ]
    }
   ],
   "metadata": {}
  },
  {
   "cell_type": "markdown",
   "source": [
    "### Scraping Mars News"
   ],
   "metadata": {}
  },
  {
   "cell_type": "code",
   "execution_count": 216,
   "source": [
    "# mars news url\r\n",
    "mars_news_url = 'https://mars.nasa.gov/news/'\r\n",
    "\r\n",
    "# check the url\r\n",
    "browser.visit(mars_news_url)\r\n",
    "\r\n",
    "# load the html into the parser\r\n",
    "news_html = browser.html\r\n",
    "soup_news = BeautifulSoup(news_html, 'html.parser')\r\n"
   ],
   "outputs": [],
   "metadata": {}
  },
  {
   "cell_type": "code",
   "execution_count": 254,
   "source": [
    "# retrieving latest news page title and body\r\n",
    "news_title = soup_news.find('div', class_='list_text').find('a').text\r\n",
    "news_body = soup_news.find('div', class_= 'article_teaser_body').text\r\n",
    "\r\n",
    "print(f'''\r\n",
    "      {news_title}\r\n",
    "      ---\r\n",
    "      {news_body}\r\n",
    "      ''')"
   ],
   "outputs": [
    {
     "output_type": "stream",
     "name": "stdout",
     "text": [
      "\n",
      "      NASA's Perseverance Rover Collects Puzzle Pieces of Mars' History\n",
      "      ---\n",
      "      The rocks it has analyzed for sample collection are helping the team better understand a past marked by volcanic activity and water.\n",
      "      \n"
     ]
    }
   ],
   "metadata": {}
  },
  {
   "cell_type": "markdown",
   "source": [
    "### Scraping Featured Image Link"
   ],
   "metadata": {}
  },
  {
   "cell_type": "code",
   "execution_count": 241,
   "source": [
    "# base image url\r\n",
    "image_base_path = 'https://spaceimages-mars.com/'\r\n",
    "\r\n",
    "# check the html\r\n",
    "browser.visit(image_base_path)\r\n",
    "\r\n",
    "# load the html into the parser\r\n",
    "html_img = browser.html\r\n",
    "images_soup = BeautifulSoup(html_img, 'html.parser')"
   ],
   "outputs": [],
   "metadata": {}
  },
  {
   "cell_type": "code",
   "execution_count": 243,
   "source": [
    "# retrieve featured image link\r\n",
    "img_path = images_soup.find('img', class_ = 'headerimage fade-in')['src']\r\n",
    "featured_image_url = image_base_path + img_path\r\n",
    "featured_image_url"
   ],
   "outputs": [
    {
     "output_type": "execute_result",
     "data": {
      "text/plain": [
       "'https://spaceimages-mars.com/image/featured/mars2.jpg'"
      ]
     },
     "metadata": {},
     "execution_count": 243
    }
   ],
   "metadata": {}
  },
  {
   "cell_type": "markdown",
   "source": [
    "### Scrape Mars Fact Tables"
   ],
   "metadata": {}
  },
  {
   "cell_type": "code",
   "execution_count": 252,
   "source": [
    "# mars_fact_url\r\n",
    "mar_fact_url = 'https://galaxyfacts-mars.com'\r\n",
    "html_table_string = pd.read_html(mar_fact_url)\r\n",
    "html_table_string"
   ],
   "outputs": [
    {
     "output_type": "execute_result",
     "data": {
      "text/plain": [
       "[                         0                1                2\n",
       " 0  Mars - Earth Comparison             Mars            Earth\n",
       " 1                Diameter:         6,779 km        12,742 km\n",
       " 2                    Mass:  6.39 × 10^23 kg  5.97 × 10^24 kg\n",
       " 3                   Moons:                2                1\n",
       " 4       Distance from Sun:   227,943,824 km   149,598,262 km\n",
       " 5          Length of Year:   687 Earth days      365.24 days\n",
       " 6             Temperature:     -87 to -5 °C      -88 to 58°C,\n",
       "                       0                              1\n",
       " 0  Equatorial Diameter:                       6,792 km\n",
       " 1       Polar Diameter:                       6,752 km\n",
       " 2                 Mass:  6.39 × 10^23 kg (0.11 Earths)\n",
       " 3                Moons:          2 ( Phobos & Deimos )\n",
       " 4       Orbit Distance:       227,943,824 km (1.38 AU)\n",
       " 5         Orbit Period:           687 days (1.9 years)\n",
       " 6  Surface Temperature:                   -87 to -5 °C\n",
       " 7         First Record:              2nd millennium BC\n",
       " 8          Recorded By:           Egyptian astronomers]"
      ]
     },
     "metadata": {},
     "execution_count": 252
    }
   ],
   "metadata": {}
  },
  {
   "cell_type": "markdown",
   "source": [
    "### Scrape Hemisphere Information and Images"
   ],
   "metadata": {}
  },
  {
   "cell_type": "code",
   "execution_count": 201,
   "source": [
    "# retreive mars hemisphere information\r\n",
    "hemisphere_url = 'https://marshemispheres.com/'\r\n",
    "\r\n",
    "# check the html\r\n",
    "browser.visit(hemisphere_url)\r\n",
    "\r\n",
    "# load the html into the parser\r\n",
    "html_hemis = browser.html\r\n",
    "hem_soup = BeautifulSoup(html_hemis, 'html.parser')"
   ],
   "outputs": [],
   "metadata": {}
  },
  {
   "cell_type": "code",
   "execution_count": 255,
   "source": [
    "# scrape html for list of hemisphere\r\n",
    "hem_title = [title.find('h3').text for title in hem_soup.find_all('div', class_ = 'description')]\r\n",
    "\r\n",
    "# scrap html for list of separate hemisphere url\r\n",
    "hem_ref = [img_url.find('a')['href'] for img_url in hem_soup.find_all('div', class_ = 'description')]\r\n",
    "\r\n",
    "# create a function to extract the indivisual url based on each hemisphere url\r\n",
    "def img_url_parser(hem_url):\r\n",
    "    hem_url = hemisphere_url +hem_url\r\n",
    "    browser.visit(hem_url)\r\n",
    "    hem_img_soup = BeautifulSoup(browser.html,'html.parser')\r\n",
    "    img_url = hemisphere_url + hem_img_soup.find_all('li')[1].find('a')['href']\r\n",
    "    return img_url\r\n",
    "\r\n",
    "# apply the function to each itmes in the hemisphere url list\r\n",
    "img_url = list(map(img_url_parser, hem_ref))\r\n",
    "\r\n",
    "# create the list of hemisphere dictionaries\r\n",
    "hemisphere_image_urls = []\r\n",
    "if len(hem_title) == len(img_url):\r\n",
    "    for index in range(len(hem_title)):\r\n",
    "        hemisphere_image_urls.append(\r\n",
    "        { 'title' : hem_title[index],\r\n",
    "            'img_url': img_url[index]}\r\n",
    "        )\r\n",
    "        \r\n",
    "hemisphere_image_urls"
   ],
   "outputs": [
    {
     "output_type": "execute_result",
     "data": {
      "text/plain": [
       "[{'title': 'Cerberus Hemisphere Enhanced',\n",
       "  'img_url': 'https://marshemispheres.com/images/cerberus_enhanced.tif'},\n",
       " {'title': 'Schiaparelli Hemisphere Enhanced',\n",
       "  'img_url': 'https://marshemispheres.com/images/schiaparelli_enhanced.tif'},\n",
       " {'title': 'Syrtis Major Hemisphere Enhanced',\n",
       "  'img_url': 'https://marshemispheres.com/images/syrtis_major_enhanced.tif'},\n",
       " {'title': 'Valles Marineris Hemisphere Enhanced',\n",
       "  'img_url': 'https://marshemispheres.com/images/valles_marineris_enhanced.tif'}]"
      ]
     },
     "metadata": {},
     "execution_count": 255
    }
   ],
   "metadata": {}
  }
 ],
 "metadata": {
  "orig_nbformat": 4,
  "language_info": {
   "name": "python",
   "version": "3.8.8",
   "mimetype": "text/x-python",
   "codemirror_mode": {
    "name": "ipython",
    "version": 3
   },
   "pygments_lexer": "ipython3",
   "nbconvert_exporter": "python",
   "file_extension": ".py"
  },
  "kernelspec": {
   "name": "python3",
   "display_name": "Python 3.8.8 64-bit ('base': conda)"
  },
  "interpreter": {
   "hash": "0f84519495a22791c59bf718d7a1a3ac7d23fa3e9f8f0df58a745c7be6b34c4a"
  }
 },
 "nbformat": 4,
 "nbformat_minor": 2
}