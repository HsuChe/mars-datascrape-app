{
 "cells": [
  {
   "cell_type": "code",
   "execution_count": 1,
   "source": [
    "from splinter import Browser\n",
    "from bs4 import BeautifulSoup\n",
    "import pandas as pd\n",
    "import pymongo\n",
    "from flask import Flask, render_template, redirect\n",
    "from flask_pymongo import PyMongo\n",
    "from webdriver_manager.chrome import ChromeDriverManager"
   ],
   "outputs": [],
   "metadata": {}
  },
  {
   "cell_type": "code",
   "execution_count": 2,
   "source": [
    "# create the paths for chrome drivers\n",
    "executable_path = {'executable_path': ChromeDriverManager().install()}\n",
    "# load settings for the Browser\n",
    "browser = Browser('chrome', **executable_path, headless = False)"
   ],
   "outputs": [
    {
     "output_type": "stream",
     "name": "stderr",
     "text": [
      "\n",
      "\n",
      "====== WebDriver manager ======\n",
      "Current google-chrome version is 93.0.4577\n",
      "Get LATEST driver version for 93.0.4577\n",
      "Get LATEST driver version for 93.0.4577\n",
      "Trying to download new driver from https://chromedriver.storage.googleapis.com/93.0.4577.63/chromedriver_mac64.zip\n"
     ]
    }
   ],
   "metadata": {}
  },
  {
   "cell_type": "markdown",
   "source": [
    "### Scraping Mars News"
   ],
   "metadata": {}
  },
  {
   "cell_type": "code",
   "execution_count": null,
   "source": [
    "# mars news url\n",
    "mars_news_url = 'https://mars.nasa.gov/news/'\n",
    "\n",
    "# check the url\n",
    "browser.visit(mars_news_url)\n",
    "\n",
    "# load the html into the parser\n",
    "news_html = browser.html\n",
    "soup_news = BeautifulSoup(news_html, 'html.parser')\n"
   ],
   "outputs": [],
   "metadata": {}
  },
  {
   "cell_type": "code",
   "execution_count": null,
   "source": [
    "# retrieving latest news page title and body\n",
    "news_title = soup_news.find('div', class_='list_text').find('a').text\n",
    "news_body = soup_news.find('div', class_= 'article_teaser_body').text\n",
    "\n",
    "print(f'''\n",
    "      {news_title}\n",
    "      ---\n",
    "      {news_body}\n",
    "      ''')"
   ],
   "outputs": [],
   "metadata": {}
  },
  {
   "cell_type": "markdown",
   "source": [
    "### Scraping Featured Image Link"
   ],
   "metadata": {}
  },
  {
   "cell_type": "code",
   "execution_count": null,
   "source": [
    "# base image url\n",
    "image_base_path = 'https://spaceimages-mars.com/'\n",
    "\n",
    "# check the html\n",
    "browser.visit(image_base_path)\n",
    "\n",
    "# load the html into the parser\n",
    "html_img = browser.html\n",
    "images_soup = BeautifulSoup(html_img, 'html.parser')"
   ],
   "outputs": [],
   "metadata": {}
  },
  {
   "cell_type": "code",
   "execution_count": null,
   "source": [
    "# retrieve featured image link\n",
    "img_path = images_soup.find('img', class_ = 'headerimage fade-in')['src']\n",
    "featured_image_url = image_base_path + img_path\n",
    "featured_image_url"
   ],
   "outputs": [],
   "metadata": {}
  },
  {
   "cell_type": "markdown",
   "source": [
    "### Scrape Mars Fact Tables"
   ],
   "metadata": {}
  },
  {
   "cell_type": "code",
   "execution_count": null,
   "source": [
    "# mars_fact_url\n",
    "mar_fact_url = 'https://galaxyfacts-mars.com'\n",
    "html_table_string = pd.read_html(mar_fact_url)\n",
    "html_table_string"
   ],
   "outputs": [],
   "metadata": {}
  },
  {
   "cell_type": "markdown",
   "source": [
    "### Scrape Hemisphere Information and Images"
   ],
   "metadata": {}
  },
  {
   "cell_type": "code",
   "execution_count": null,
   "source": [
    "# retreive mars hemisphere information\n",
    "hemisphere_url = 'https://marshemispheres.com/'\n",
    "\n",
    "# check the html\n",
    "browser.visit(hemisphere_url)\n",
    "\n",
    "# load the html into the parser\n",
    "html_hemis = browser.html\n",
    "hem_soup = BeautifulSoup(html_hemis, 'html.parser')"
   ],
   "outputs": [],
   "metadata": {}
  },
  {
   "cell_type": "code",
   "execution_count": null,
   "source": [
    "# scrape html for list of hemisphere\n",
    "hem_title = [title.find('h3').text for title in hem_soup.find_all('div', class_ = 'description')]\n",
    "\n",
    "# scrap html for list of separate hemisphere url\n",
    "hem_ref = [img_url.find('a')['href'] for img_url in hem_soup.find_all('div', class_ = 'description')]\n",
    "\n",
    "# create a function to extract the indivisual url based on each hemisphere url\n",
    "def img_url_parser(hem_url):\n",
    "    hem_url = hemisphere_url +hem_url\n",
    "    browser.visit(hem_url)\n",
    "    hem_img_soup = BeautifulSoup(browser.html,'html.parser')\n",
    "    img_url = hemisphere_url + hem_img_soup.find_all('li')[1].find('a')['href']\n",
    "    return img_url\n",
    "\n",
    "# apply the function to each itmes in the hemisphere url list\n",
    "img_url = list(map(img_url_parser, hem_ref))\n",
    "\n",
    "# create the list of hemisphere dictionaries\n",
    "hemisphere_image_urls = []\n",
    "if len(hem_title) == len(img_url):\n",
    "    for index in range(len(hem_title)):\n",
    "        hemisphere_image_urls.append(\n",
    "        { 'title' : hem_title[index],\n",
    "            'img_url': img_url[index]}\n",
    "        )\n",
    "        \n",
    "hemisphere_image_urls"
   ],
   "outputs": [],
   "metadata": {}
  }
 ],
 "metadata": {
  "orig_nbformat": 4,
  "language_info": {
   "name": "python",
   "version": "3.8.8",
   "mimetype": "text/x-python",
   "codemirror_mode": {
    "name": "ipython",
    "version": 3
   },
   "pygments_lexer": "ipython3",
   "nbconvert_exporter": "python",
   "file_extension": ".py"
  },
  "kernelspec": {
   "name": "python3",
   "display_name": "Python 3.8.8 64-bit ('base': conda)"
  },
  "interpreter": {
   "hash": "dca0ade3e726a953b501b15e8e990130d2b7799f14cfd9f4271676035ebe5511"
  }
 },
 "nbformat": 4,
 "nbformat_minor": 2
}